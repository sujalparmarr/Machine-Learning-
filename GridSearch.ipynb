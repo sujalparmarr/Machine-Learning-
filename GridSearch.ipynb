{
 "cells": [
  {
   "cell_type": "markdown",
   "id": "524c8ed3",
   "metadata": {},
   "source": [
    "# Grid Search Example "
   ]
  },
  {
   "cell_type": "code",
   "execution_count": 1,
   "id": "7a1dc9f1",
   "metadata": {},
   "outputs": [],
   "source": [
    "import pandas as pd\n",
    "from sklearn.datasets import load_iris\n",
    "from sklearn.model_selection import train_test_split, GridSearchCV\n",
    "from sklearn.svm import SVC"
   ]
  },
  {
   "cell_type": "markdown",
   "id": "e97b3d96",
   "metadata": {},
   "source": [
    "### Step 1: Load the dataset"
   ]
  },
  {
   "cell_type": "code",
   "execution_count": 2,
   "id": "607fb292",
   "metadata": {},
   "outputs": [
    {
     "name": "stdout",
     "output_type": "stream",
     "text": [
      "Shape of X: (150, 4)\n",
      "Shape of y: (150,)\n"
     ]
    }
   ],
   "source": [
    "iris = load_iris()\n",
    "X = iris.data\n",
    "y = iris.target\n",
    "\n",
    "print('Shape of X:', X.shape)\n",
    "print('Shape of y:', y.shape)"
   ]
  },
  {
   "cell_type": "markdown",
   "id": "90340664",
   "metadata": {},
   "source": [
    "### Step 2: Split the dataset into Train and Test"
   ]
  },
  {
   "cell_type": "code",
   "execution_count": 3,
   "id": "0af4fca8",
   "metadata": {},
   "outputs": [
    {
     "name": "stdout",
     "output_type": "stream",
     "text": [
      "Train size: (120, 4)\n",
      "Test size: (30, 4)\n"
     ]
    }
   ],
   "source": [
    "X_train, X_test, y_train, y_test = train_test_split(X, y, test_size=0.2, random_state=42)\n",
    "print('Train size:', X_train.shape)\n",
    "print('Test size:', X_test.shape)"
   ]
  },
  {
   "cell_type": "markdown",
   "id": "ecba2733",
   "metadata": {},
   "source": [
    "### Step 3: Create a model (Support Vector Classifier)"
   ]
  },
  {
   "cell_type": "code",
   "execution_count": 4,
   "id": "384c13cc",
   "metadata": {},
   "outputs": [],
   "source": [
    "model = SVC()"
   ]
  },
  {
   "cell_type": "markdown",
   "id": "8b88fbd8",
   "metadata": {},
   "source": [
    "### Step 4: Define Parameter Grid\n",
    "We will try different values of `C`, `kernel`, and `gamma`. Grid Search will check each combination."
   ]
  },
  {
   "cell_type": "code",
   "execution_count": 5,
   "id": "e38c48e8",
   "metadata": {},
   "outputs": [
    {
     "name": "stdout",
     "output_type": "stream",
     "text": [
      "Parameter grid: {'C': [0.1, 1, 10], 'kernel': ['linear', 'rbf'], 'gamma': [0.01, 0.1, 1]}\n"
     ]
    }
   ],
   "source": [
    "param_grid = {\n",
    "    'C': [0.1, 1, 10],\n",
    "    'kernel': ['linear', 'rbf'],\n",
    "    'gamma': [0.01, 0.1, 1]\n",
    "}\n",
    "\n",
    "print('Parameter grid:', param_grid)"
   ]
  },
  {
   "cell_type": "markdown",
   "id": "ba4c854a",
   "metadata": {},
   "source": [
    "### Step 5: Apply Grid Search with Cross Validation"
   ]
  },
  {
   "cell_type": "code",
   "execution_count": 6,
   "id": "bcecaac7",
   "metadata": {},
   "outputs": [
    {
     "name": "stdout",
     "output_type": "stream",
     "text": [
      "Fitting 3 folds for each of 18 candidates, totalling 54 fits\n",
      "Best Parameters: {'C': 1, 'gamma': 0.01, 'kernel': 'linear'}\n",
      "Best Score: 0.975\n"
     ]
    }
   ],
   "source": [
    "grid = GridSearchCV(SVC(), param_grid, cv=3, verbose=1)\n",
    "grid.fit(X_train, y_train)\n",
    "\n",
    "print('Best Parameters:', grid.best_params_)\n",
    "print('Best Score:', grid.best_score_)"
   ]
  },
  {
   "cell_type": "markdown",
   "id": "6bb63412",
   "metadata": {},
   "source": [
    "### Step 6: Test the model with the best parameters"
   ]
  },
  {
   "cell_type": "code",
   "execution_count": 7,
   "id": "e802fd09",
   "metadata": {},
   "outputs": [
    {
     "name": "stdout",
     "output_type": "stream",
     "text": [
      "Test Accuracy: 1.0\n"
     ]
    }
   ],
   "source": [
    "test_score = grid.score(X_test, y_test)\n",
    "print('Test Accuracy:', test_score)"
   ]
  }
 ],
 "metadata": {
  "kernelspec": {
   "display_name": "Python 3 (ipykernel)",
   "language": "python",
   "name": "python3"
  },
  "language_info": {
   "codemirror_mode": {
    "name": "ipython",
    "version": 3
   },
   "file_extension": ".py",
   "mimetype": "text/x-python",
   "name": "python",
   "nbconvert_exporter": "python",
   "pygments_lexer": "ipython3",
   "version": "3.10.9"
  }
 },
 "nbformat": 4,
 "nbformat_minor": 5
}
