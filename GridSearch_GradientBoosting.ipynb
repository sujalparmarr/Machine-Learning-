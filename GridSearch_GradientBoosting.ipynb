{
 "cells": [
  {
   "cell_type": "markdown",
   "id": "add6fade",
   "metadata": {},
   "source": [
    "# Grid Search with Gradient Boosting "
   ]
  },
  {
   "cell_type": "code",
   "execution_count": 1,
   "id": "814d26e6",
   "metadata": {},
   "outputs": [],
   "source": [
    "import pandas as pd\n",
    "from sklearn.datasets import load_iris\n",
    "from sklearn.model_selection import train_test_split, GridSearchCV\n",
    "from sklearn.ensemble import GradientBoostingClassifier"
   ]
  },
  {
   "cell_type": "markdown",
   "id": "f6813fb0",
   "metadata": {},
   "source": [
    "### Step 1: Load the dataset"
   ]
  },
  {
   "cell_type": "code",
   "execution_count": 2,
   "id": "408ec566",
   "metadata": {},
   "outputs": [
    {
     "name": "stdout",
     "output_type": "stream",
     "text": [
      "Shape of X: (150, 4)\n",
      "Shape of y: (150,)\n"
     ]
    }
   ],
   "source": [
    "iris = load_iris()\n",
    "X = iris.data\n",
    "y = iris.target\n",
    "\n",
    "print('Shape of X:', X.shape)\n",
    "print('Shape of y:', y.shape)"
   ]
  },
  {
   "cell_type": "markdown",
   "id": "98bd64cf",
   "metadata": {},
   "source": [
    "### Step 2: Split the dataset into Train and Test"
   ]
  },
  {
   "cell_type": "code",
   "execution_count": 3,
   "id": "a82c34d1",
   "metadata": {},
   "outputs": [
    {
     "name": "stdout",
     "output_type": "stream",
     "text": [
      "Train size: (120, 4)\n",
      "Test size: (30, 4)\n"
     ]
    }
   ],
   "source": [
    "X_train, X_test, y_train, y_test = train_test_split(X, y, test_size=0.2, random_state=42)\n",
    "print('Train size:', X_train.shape)\n",
    "print('Test size:', X_test.shape)"
   ]
  },
  {
   "cell_type": "markdown",
   "id": "1ea6dd03",
   "metadata": {},
   "source": [
    "### Step 3: Create a model (Gradient Boosting Classifier)"
   ]
  },
  {
   "cell_type": "code",
   "execution_count": 4,
   "id": "676270d1",
   "metadata": {},
   "outputs": [],
   "source": [
    "model = GradientBoostingClassifier()"
   ]
  },
  {
   "cell_type": "markdown",
   "id": "c6fa98d0",
   "metadata": {},
   "source": [
    "### Step 4: Define Parameter Grid\n",
    "We will try different values of `n_estimators`, `learning_rate`, and `max_depth`. Grid Search will check each combination."
   ]
  },
  {
   "cell_type": "code",
   "execution_count": 5,
   "id": "645ee880",
   "metadata": {},
   "outputs": [
    {
     "name": "stdout",
     "output_type": "stream",
     "text": [
      "Parameter grid: {'n_estimators': [50, 100, 150], 'learning_rate': [0.01, 0.1, 0.2], 'max_depth': [2, 3, 4]}\n"
     ]
    }
   ],
   "source": [
    "param_grid = {\n",
    "    'n_estimators': [50, 100, 150],\n",
    "    'learning_rate': [0.01, 0.1, 0.2],\n",
    "    'max_depth': [2, 3, 4]\n",
    "}\n",
    "\n",
    "print('Parameter grid:', param_grid)"
   ]
  },
  {
   "cell_type": "markdown",
   "id": "7a5c1580",
   "metadata": {},
   "source": [
    "### Step 5: Apply Grid Search with Cross Validation"
   ]
  },
  {
   "cell_type": "code",
   "execution_count": 6,
   "id": "7ea16f8e",
   "metadata": {},
   "outputs": [
    {
     "name": "stdout",
     "output_type": "stream",
     "text": [
      "Fitting 3 folds for each of 27 candidates, totalling 81 fits\n",
      "Best Parameters: {'learning_rate': 0.01, 'max_depth': 2, 'n_estimators': 50}\n",
      "Best Score: 0.9583333333333334\n"
     ]
    }
   ],
   "source": [
    "grid = GridSearchCV(GradientBoostingClassifier(), param_grid, cv=3, verbose=1)\n",
    "grid.fit(X_train, y_train)\n",
    "\n",
    "print('Best Parameters:', grid.best_params_)\n",
    "print('Best Score:', grid.best_score_)"
   ]
  },
  {
   "cell_type": "markdown",
   "id": "62659d81",
   "metadata": {},
   "source": [
    "### Step 6: Test the model with the best parameters"
   ]
  },
  {
   "cell_type": "code",
   "execution_count": 7,
   "id": "b5a22b42",
   "metadata": {},
   "outputs": [
    {
     "name": "stdout",
     "output_type": "stream",
     "text": [
      "Test Accuracy: 1.0\n"
     ]
    }
   ],
   "source": [
    "test_score = grid.score(X_test, y_test)\n",
    "print('Test Accuracy:', test_score)"
   ]
  }
 ],
 "metadata": {
  "kernelspec": {
   "display_name": "Python 3 (ipykernel)",
   "language": "python",
   "name": "python3"
  },
  "language_info": {
   "codemirror_mode": {
    "name": "ipython",
    "version": 3
   },
   "file_extension": ".py",
   "mimetype": "text/x-python",
   "name": "python",
   "nbconvert_exporter": "python",
   "pygments_lexer": "ipython3",
   "version": "3.10.9"
  }
 },
 "nbformat": 4,
 "nbformat_minor": 5
}
