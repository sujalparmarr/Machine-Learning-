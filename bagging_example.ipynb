{
 "cells": [
  {
   "cell_type": "markdown",
   "id": "a33a9c03",
   "metadata": {},
   "source": [
    "# Bagging (Bootstrap Aggregating) "
   ]
  },
  {
   "cell_type": "code",
   "execution_count": 2,
   "id": "0ea18603",
   "metadata": {},
   "outputs": [],
   "source": [
    "import matplotlib.pyplot as plt\n",
    "import seaborn as sns\n",
    "from sklearn.datasets import load_iris\n",
    "from sklearn.model_selection import train_test_split\n",
    "from sklearn.tree import DecisionTreeClassifier\n",
    "from sklearn.ensemble import BaggingClassifier\n",
    "from sklearn.metrics import accuracy_score\n",
    "\n",
    "sns.set(style=\"whitegrid\")"
   ]
  },
  {
   "cell_type": "code",
   "execution_count": 3,
   "id": "411b9904",
   "metadata": {},
   "outputs": [],
   "source": [
    "# Load Iris dataset\n",
    "iris = load_iris()\n",
    "X = iris.data\n",
    "y = iris.target\n",
    "\n",
    "# Train-test split\n",
    "X_train, X_test, y_train, y_test = train_test_split(X, y, test_size=0.2, random_state=42)"
   ]
  },
  {
   "cell_type": "markdown",
   "id": "05c67994",
   "metadata": {},
   "source": [
    "## 1. Baseline: Single Decision Tree\n",
    "\n",
    "We first train a **single decision tree** as our baseline model."
   ]
  },
  {
   "cell_type": "code",
   "execution_count": 4,
   "id": "34835a4f",
   "metadata": {},
   "outputs": [
    {
     "name": "stdout",
     "output_type": "stream",
     "text": [
      "Single Decision Tree Accuracy: 1.0\n"
     ]
    }
   ],
   "source": [
    "# Single Decision Tree\n",
    "dt = DecisionTreeClassifier(random_state=42)\n",
    "dt.fit(X_train, y_train)\n",
    "y_pred_dt = dt.predict(X_test)\n",
    "\n",
    "print(\"Single Decision Tree Accuracy:\", accuracy_score(y_test, y_pred_dt))"
   ]
  },
  {
   "cell_type": "markdown",
   "id": "19fa5c7b",
   "metadata": {},
   "source": [
    "## 2. Bagging with Decision Trees\n",
    "\n",
    "Now we use **BaggingClassifier** with multiple decision trees (default: bootstrap sampling)."
   ]
  },
  {
   "cell_type": "code",
   "execution_count": 5,
   "id": "ea508e2c",
   "metadata": {},
   "outputs": [
    {
     "name": "stdout",
     "output_type": "stream",
     "text": [
      "Bagging (Decision Trees) Accuracy: 1.0\n"
     ]
    },
    {
     "name": "stderr",
     "output_type": "stream",
     "text": [
      "C:\\ProgramData\\anaconda3\\lib\\site-packages\\sklearn\\ensemble\\_base.py:166: FutureWarning: `base_estimator` was renamed to `estimator` in version 1.2 and will be removed in 1.4.\n",
      "  warnings.warn(\n"
     ]
    }
   ],
   "source": [
    "# Bagging with Decision Trees\n",
    "bag_clf = BaggingClassifier(\n",
    "    base_estimator=DecisionTreeClassifier(),\n",
    "    n_estimators=50,\n",
    "    random_state=42\n",
    ")\n",
    "bag_clf.fit(X_train, y_train)\n",
    "y_pred_bag = bag_clf.predict(X_test)\n",
    "\n",
    "print(\"Bagging (Decision Trees) Accuracy:\", accuracy_score(y_test, y_pred_bag))"
   ]
  },
  {
   "cell_type": "markdown",
   "id": "27eaf740",
   "metadata": {},
   "source": [
    "## Key Takeaways\n",
    "\n",
    "- A single decision tree may overfit the training data.\n",
    "\n",
    "- Bagging trains **many decision trees on different samples** and combines their results.\n",
    "\n",
    "- This usually improves accuracy and reduces overfitting.\n",
    "\n",
    "- Bagging is the foundation of more advanced ensemble methods like **Random Forests**.\n",
    "\n",
    "\n"
   ]
  },
  {
   "cell_type": "code",
   "execution_count": null,
   "id": "3a403805",
   "metadata": {},
   "outputs": [],
   "source": []
  }
 ],
 "metadata": {
  "kernelspec": {
   "display_name": "Python 3 (ipykernel)",
   "language": "python",
   "name": "python3"
  },
  "language_info": {
   "codemirror_mode": {
    "name": "ipython",
    "version": 3
   },
   "file_extension": ".py",
   "mimetype": "text/x-python",
   "name": "python",
   "nbconvert_exporter": "python",
   "pygments_lexer": "ipython3",
   "version": "3.10.9"
  }
 },
 "nbformat": 4,
 "nbformat_minor": 5
}
