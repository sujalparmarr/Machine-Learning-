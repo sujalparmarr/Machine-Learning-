{
 "cells": [
  {
   "cell_type": "markdown",
   "id": "4d0e2bbe",
   "metadata": {},
   "source": [
    "# Simple Machine Learning Project: Iris Flower Classification"
   ]
  },
  {
   "cell_type": "markdown",
   "id": "380a641d",
   "metadata": {},
   "source": [
    "This notebook demonstrates a beginner-friendly ML project using the Iris dataset."
   ]
  },
  {
   "cell_type": "code",
   "execution_count": null,
   "id": "510ecdc2",
   "metadata": {},
   "outputs": [],
   "source": [
    "\n",
    "from sklearn.datasets import load_iris\n",
    "from sklearn.model_selection import train_test_split\n",
    "from sklearn.linear_model import LogisticRegression\n",
    "from sklearn.metrics import accuracy_score, classification_report\n",
    "import pandas as pd\n"
   ]
  },
  {
   "cell_type": "code",
   "execution_count": null,
   "id": "06e539a1",
   "metadata": {},
   "outputs": [],
   "source": [
    "\n",
    "iris = load_iris()\n",
    "X = iris.data\n",
    "y = iris.target\n",
    "\n",
    "print(\"Feature Names:\", iris.feature_names)\n",
    "print(\"Target Names:\", iris.target_names)\n"
   ]
  },
  {
   "cell_type": "code",
   "execution_count": null,
   "id": "78838390",
   "metadata": {},
   "outputs": [],
   "source": [
    "\n",
    "X_train, X_test, y_train, y_test = train_test_split(X, y, test_size=0.2, random_state=42)\n"
   ]
  },
  {
   "cell_type": "code",
   "execution_count": null,
   "id": "1edfd085",
   "metadata": {},
   "outputs": [],
   "source": [
    "\n",
    "model = LogisticRegression(max_iter=200)\n",
    "model.fit(X_train, y_train)\n"
   ]
  },
  {
   "cell_type": "code",
   "execution_count": null,
   "id": "c82edaba",
   "metadata": {},
   "outputs": [],
   "source": [
    "\n",
    "y_pred = model.predict(X_test)\n"
   ]
  },
  {
   "cell_type": "code",
   "execution_count": null,
   "id": "7e88e54b",
   "metadata": {},
   "outputs": [],
   "source": [
    "\n",
    "accuracy = accuracy_score(y_test, y_pred)\n",
    "print(\"Accuracy:\", accuracy)\n",
    "\n",
    "print(\"\\nClassification Report:\")\n",
    "print(classification_report(y_test, y_pred, target_names=iris.target_names))\n"
   ]
  },
  {
   "cell_type": "code",
   "execution_count": null,
   "id": "a046b374",
   "metadata": {},
   "outputs": [],
   "source": [
    "\n",
    "results = pd.DataFrame({\n",
    "    \"Actual\": [iris.target_names[i] for i in y_test],\n",
    "    \"Predicted\": [iris.target_names[i] for i in y_pred]\n",
    "})\n",
    "results.head()\n"
   ]
  }
 ],
 "metadata": {},
 "nbformat": 4,
 "nbformat_minor": 5
}
