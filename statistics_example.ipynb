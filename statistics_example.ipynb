{
 "cells": [
  {
   "cell_type": "code",
   "execution_count": 1,
   "id": "a3b13287",
   "metadata": {},
   "outputs": [
    {
     "name": "stdout",
     "output_type": "stream",
     "text": [
      "Mean: 51.81818181818182\n",
      "Median: 50.0\n",
      "Mode: 20\n",
      "Standard Deviation: 30.60005941764879\n",
      "Variance: 936.3636363636364\n",
      "\n",
      "Summary Statistics:\n",
      "           Values\n",
      "count   11.000000\n",
      "mean    51.818182\n",
      "std     30.600059\n",
      "min     10.000000\n",
      "25%     25.000000\n",
      "50%     50.000000\n",
      "75%     75.000000\n",
      "max    100.000000\n"
     ]
    }
   ],
   "source": [
    "# Importing libraries\n",
    "import numpy as np\n",
    "import pandas as pd\n",
    "\n",
    "# Create a sample dataset\n",
    "data = [10, 20, 20, 30, 40, 50, 60, 70, 80, 90, 100]\n",
    "df = pd.DataFrame(data, columns=[\"Values\"])\n",
    "\n",
    "# Mean\n",
    "mean_val = df[\"Values\"].mean()\n",
    "\n",
    "# Median\n",
    "median_val = df[\"Values\"].median()\n",
    "\n",
    "# Mode\n",
    "mode_val = df[\"Values\"].mode()[0]\n",
    "\n",
    "# Standard Deviation\n",
    "std_val = df[\"Values\"].std()\n",
    "\n",
    "# Variance\n",
    "var_val = df[\"Values\"].var()\n",
    "\n",
    "print(\"Mean:\", mean_val)\n",
    "print(\"Median:\", median_val)\n",
    "print(\"Mode:\", mode_val)\n",
    "print(\"Standard Deviation:\", std_val)\n",
    "print(\"Variance:\", var_val)\n",
    "\n",
    "# Describe function for summary statistics\n",
    "print(\"\\nSummary Statistics:\")\n",
    "print(df.describe())\n"
   ]
  },
  {
   "cell_type": "code",
   "execution_count": null,
   "id": "b02c24ba",
   "metadata": {},
   "outputs": [],
   "source": []
  }
 ],
 "metadata": {
  "kernelspec": {
   "display_name": "Python 3 (ipykernel)",
   "language": "python",
   "name": "python3"
  },
  "language_info": {
   "codemirror_mode": {
    "name": "ipython",
    "version": 3
   },
   "file_extension": ".py",
   "mimetype": "text/x-python",
   "name": "python",
   "nbconvert_exporter": "python",
   "pygments_lexer": "ipython3",
   "version": "3.10.9"
  }
 },
 "nbformat": 4,
 "nbformat_minor": 5
}
